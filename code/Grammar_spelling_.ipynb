{
 "cells": [
  {
   "cell_type": "code",
   "execution_count": 1,
   "metadata": {},
   "outputs": [],
   "source": [
    "# import libraries\n",
    "import numpy as np\n",
    "import pandas as pd\n",
    "import re\n",
    "from datetime import datetime\n",
    "import matplotlib.pyplot as plt\n",
    "import seaborn as sns\n",
    "from matplotlib import pyplot as plt\n",
    "%matplotlib inline\n",
    "\n",
    "import language_check\n",
    "import warnings\n",
    "\n",
    "from sklearn.feature_extraction.text import CountVectorizer\n",
    "from sklearn.decomposition import LatentDirichletAllocation\n",
    "import joblib\n",
    "from sklearn.model_selection import train_test_split\n",
    "\n",
    "# Customizing Matplotlib with style sheets\n",
    "plt.style.use('seaborn-colorblind')\n",
    "\n",
    "# Setup Pandas\n",
    "pd.set_option('display.width', 500)\n",
    "pd.set_option('display.max_columns', 100)\n",
    "pd.set_option('display.notebook_repr_html', True)\n",
    "pd.set_option('display.max_colwidth', 100)\n",
    "\n",
    "warnings.simplefilter(\"ignore\", DeprecationWarning)"
   ]
  },
  {
   "cell_type": "code",
   "execution_count": 2,
   "metadata": {},
   "outputs": [
    {
     "data": {
      "text/html": [
       "<div>\n",
       "<style scoped>\n",
       "    .dataframe tbody tr th:only-of-type {\n",
       "        vertical-align: middle;\n",
       "    }\n",
       "\n",
       "    .dataframe tbody tr th {\n",
       "        vertical-align: top;\n",
       "    }\n",
       "\n",
       "    .dataframe thead th {\n",
       "        text-align: right;\n",
       "    }\n",
       "</style>\n",
       "<table border=\"1\" class=\"dataframe\">\n",
       "  <thead>\n",
       "    <tr style=\"text-align: right;\">\n",
       "      <th></th>\n",
       "      <th>essay_id</th>\n",
       "      <th>topic</th>\n",
       "      <th>essay</th>\n",
       "      <th>rater1_domain1</th>\n",
       "      <th>rater2_domain1</th>\n",
       "      <th>rater3_domain1</th>\n",
       "      <th>target_score</th>\n",
       "      <th>rater1_domain2</th>\n",
       "      <th>rater2_domain2</th>\n",
       "      <th>topic2_target</th>\n",
       "      <th>rater1_trait1</th>\n",
       "      <th>rater1_trait2</th>\n",
       "      <th>rater1_trait3</th>\n",
       "      <th>rater1_trait4</th>\n",
       "      <th>rater1_trait5</th>\n",
       "      <th>rater1_trait6</th>\n",
       "      <th>rater2_trait1</th>\n",
       "      <th>rater2_trait2</th>\n",
       "      <th>rater2_trait3</th>\n",
       "      <th>rater2_trait4</th>\n",
       "      <th>rater2_trait5</th>\n",
       "      <th>rater2_trait6</th>\n",
       "      <th>rater3_trait1</th>\n",
       "      <th>rater3_trait2</th>\n",
       "      <th>rater3_trait3</th>\n",
       "      <th>rater3_trait4</th>\n",
       "      <th>rater3_trait5</th>\n",
       "      <th>rater3_trait6</th>\n",
       "    </tr>\n",
       "  </thead>\n",
       "  <tbody>\n",
       "    <tr>\n",
       "      <th>8762</th>\n",
       "      <td>13510</td>\n",
       "      <td>5</td>\n",
       "      <td>That he was happy. He relizes he has a better life in @LOCATION1 than what he would of had in Cu...</td>\n",
       "      <td>1</td>\n",
       "      <td>1</td>\n",
       "      <td>NaN</td>\n",
       "      <td>1</td>\n",
       "      <td>NaN</td>\n",
       "      <td>NaN</td>\n",
       "      <td>NaN</td>\n",
       "      <td>NaN</td>\n",
       "      <td>NaN</td>\n",
       "      <td>NaN</td>\n",
       "      <td>NaN</td>\n",
       "      <td>NaN</td>\n",
       "      <td>NaN</td>\n",
       "      <td>NaN</td>\n",
       "      <td>NaN</td>\n",
       "      <td>NaN</td>\n",
       "      <td>NaN</td>\n",
       "      <td>NaN</td>\n",
       "      <td>NaN</td>\n",
       "      <td>NaN</td>\n",
       "      <td>NaN</td>\n",
       "      <td>NaN</td>\n",
       "      <td>NaN</td>\n",
       "      <td>NaN</td>\n",
       "      <td>NaN</td>\n",
       "    </tr>\n",
       "  </tbody>\n",
       "</table>\n",
       "</div>"
      ],
      "text/plain": [
       "      essay_id  topic                                                                                                essay  rater1_domain1  rater2_domain1  rater3_domain1  target_score  rater1_domain2  rater2_domain2  topic2_target  rater1_trait1  rater1_trait2  rater1_trait3  rater1_trait4  rater1_trait5  rater1_trait6  rater2_trait1  rater2_trait2  rater2_trait3  rater2_trait4  rater2_trait5  rater2_trait6  rater3_trait1  rater3_trait2  rater3_trait3  rater3_trait4  rater3_trait5  \\\n",
       "8762     13510      5  That he was happy. He relizes he has a better life in @LOCATION1 than what he would of had in Cu...               1               1             NaN             1             NaN             NaN            NaN            NaN            NaN            NaN            NaN            NaN            NaN            NaN            NaN            NaN            NaN            NaN            NaN            NaN            NaN            NaN            NaN            NaN   \n",
       "\n",
       "      rater3_trait6  \n",
       "8762            NaN  "
      ]
     },
     "execution_count": 2,
     "metadata": {},
     "output_type": "execute_result"
    }
   ],
   "source": [
    "# training data \n",
    "training_data_set = pd.read_csv('training_set_rel3.tsv', sep='\\t', encoding = \"ISO-8859-1\")\\\n",
    "            .rename(columns={'essay_set': 'topic', 'domain1_score': 'target_score', 'domain2_score': 'topic2_target'})\n",
    "training_data_set.sample()"
   ]
  },
  {
   "cell_type": "code",
   "execution_count": 3,
   "metadata": {},
   "outputs": [],
   "source": [
    "text = 'The titular threat of The Blob has always struck me as the ultimate movie monster: an insatiably hungry, amoeba-like mass able to penetratevirtually any safeguard, capable of--as a doomed doctor chillingly describes it--\"assimilating flesh on contact. Snide comparisons to gelatin be damned, it\\'s a concept with the most devastating of potential consequences, not unlike the grey goo scenario proposed by technological theorists fearful of artificial intelligence run rampant.'"
   ]
  },
  {
   "cell_type": "code",
   "execution_count": 4,
   "metadata": {},
   "outputs": [
    {
     "name": "stdout",
     "output_type": "stream",
     "text": [
      "The tubular threat of The Low has always struck me as the ultimate movie monster: an invariably hungry, amoeba-like mass able to penetratevirtually any safeguard, capable of--as a doomed doctor willingly describes it--\"assimilating flesh on contact. Side comparisons to gelatin be damned, it's a concept with the most devastating of potential consequences, not unlike the grey go scenario proposed by technological theorists fearful of artificial intelligence run rampart.\n"
     ]
    }
   ],
   "source": [
    "from textblob import TextBlob\n",
    "data = TextBlob(text)\n",
    "print (data.correct())"
   ]
  },
  {
   "cell_type": "code",
   "execution_count": 5,
   "metadata": {},
   "outputs": [
    {
     "data": {
      "text/plain": [
       "\"The titular threat of The Blob has always struck me as the ultimate movie monster: an insatiably hungry, amoeba-like mass able to penetrate virtually any safeguard, capable of--as a doomed doctor chillingly describes it--”assimilating flesh on contact. Snide comparisons to gelatin be damned, it's a concept with the most devastating of potential consequences, not unlike the Grey goo scenario proposed by technological theorists fearful of artificial intelligence run rampant.\""
      ]
     },
     "execution_count": 5,
     "metadata": {},
     "output_type": "execute_result"
    }
   ],
   "source": [
    "tool = language_check.LanguageTool('en-US')\n",
    "matches = tool.check(text)\n",
    "language_check.correct(text, matches)"
   ]
  },
  {
   "cell_type": "code",
   "execution_count": 7,
   "metadata": {},
   "outputs": [
    {
     "name": "stdout",
     "output_type": "stream",
     "text": [
      "Dear local newspaper, I think the effects of computers are good. Some reasons I think this is that we get a lot of knowledge from it, contact people you dont live near and haven't seen in a while. My first reason why I think the effects of computers are good because you can get a lot of knowledge from it. One example would be if you want to make a @CAPS1 meal, you wouldn't find it in an ordinary @CAPS2 @CAPS3 @CAPS4 you would have to look up on the internet for the recipe. Another example is if you wanted to travel to @LOCATION1 by car and you didn't have a map how would you get the directions? You would go on the computer, look up directions to @LOCATION1 and print it out. You would have never been able to go to @LOCATION1 if you didn't have a map or a computer. My second reason why I think the effects of computers is good is because you can contact friends or family that you have not seen in a while. One example would be if your sister just graduated from college and you wanted to congratulate her but you were @NUM1 feet in the air by a airplane and all you had was your laptop and your luggage, you would e-mail her saying good job. These are just a few reasons why I think the effects of computers is good, and I hope the local newspaper agrees too.\n"
     ]
    }
   ],
   "source": [
    "text = training_data_set.essay[1600]\n",
    "print(text)"
   ]
  },
  {
   "cell_type": "code",
   "execution_count": 8,
   "metadata": {},
   "outputs": [
    {
     "data": {
      "text/plain": [
       "\"Dear local newspaper, I think the effects of computers are good. Some reasons I think this is that we get a lot of knowledge from it, contact people you done live near and haven't seen in a while. My first reason why I think the effects of computers are good because you can get a lot of knowledge from it. One example would be if you want to make a @CAPS1 meal, you wouldn't find it in an ordinary @CAPS2 @CAPS3 @CAPS4 you would have to look up on the internet for the recipe. Another example is if you wanted to travel to @LOCATION1 by car and you didn't have a map how would you get the directions? You would go on the computer, look up directions to @LOCATION1 and print it out. You would have never been able to go to @LOCATION1 if you didn't have a map or a computer. My second reason why I think the effects of computers is good is because you can contact friends or family that you have not seen in a while. One example would be if your sister just graduated from college and you wanted to congratulate her but you were @NUM1 feet in the air by an airplane and all you had been your laptop and your luggage, you would e-mail her saying good job. These are just a few reasons why I think the effects of computers is good, and I hope the local newspaper agrees too.\""
      ]
     },
     "execution_count": 8,
     "metadata": {},
     "output_type": "execute_result"
    }
   ],
   "source": [
    "matches = tool.check(text)\n",
    "language_check.correct(text, matches)"
   ]
  },
  {
   "cell_type": "markdown",
   "metadata": {},
   "source": [
    "language_check python wrapper:\n",
    "\n",
    "to correct for most spelling and grammatical errors. \n",
    "\n",
    "Also count the applied corrections."
   ]
  },
  {
   "cell_type": "code",
   "execution_count": 9,
   "metadata": {},
   "outputs": [],
   "source": [
    "tool = language_check.LanguageTool('en-US')\n",
    "\n",
    "training_data_set['matches'] = training_data_set['essay'].apply(lambda txt: tool.check(txt))\n",
    "training_data_set['corrections'] = training_data_set.apply(lambda l: len(l['matches']), axis=1)\n",
    "training_data_set['corrected'] = training_data_set.apply(lambda l: language_check.correct(l['essay'], l['matches']), axis=1)\n",
    "\n",
    "# save work\n",
    "training_data_set.to_pickle('training_corr.pkl')"
   ]
  },
  {
   "cell_type": "code",
   "execution_count": 10,
   "metadata": {},
   "outputs": [
    {
     "name": "stdout",
     "output_type": "stream",
     "text": [
      "Original:\n",
      "Dear Local Newspaper, I belive that computers have a negative effect on peoples lives. I belive this because who spend to much time on the computer don't get out as much as they should, don't spend enough time with their family, and the computer can't do everything. My first reason is I belive that people need to get out more. When they don't get out, they don't exersise and that is very unhealthy. Instead of watching the games or the scores they should get out and play the game. I also belive that they should enjoy nature because I feel like they are wasting the beauty of nature all around them. We wouldn't want to waste our abilities and privalges would we? Another reason is that they do not spend enough time with family. If you have family near you, then you should take advantage of that and interact with one another. You can have fun with your family by playing games. You can also have fun by just hanging out, which boost your social skills and the computer can't always do that, which brings me to my next point. The computer can't do everything, so take advantage of what you have now. Some computer time is fine, but it can be very dangerous by getting addictted to it. The computer @MONTH1 have lots of information, but there is nothing that you can't find in a book. Your computer can't love your dog, so there is a reason why we should get off the computer. There are pleanty of other things that you can do that you can't do on the computer, including sports, taking care of family, and any of your hobbys. Remember that the computer @MONTH1 be great from time to time, but it can not live your life for you. That is why I belive that we should spend less time on the computer, and more time getting out, and having fun with family, and that the the computer can't do everything.\n",
      "Corrected using languagetool:\n",
      "Dear Local Newspaper, I believe that computers have a negative effect on peoples lives. I believe this because who spend too much time on the computer don't get out as much as they should, don't spend enough time with their family, and the computer can't do everything. My first reason is I believe that people need to get out more. When they don't get out, they don't exercise and that is very unhealthy. Instead of watching the games or the scores they should get out and play the game. I also believe that they should enjoy nature because I feel like they are wasting the beauty of nature all around them. We wouldn't want to waste our abilities and privileges would we? Another reason is that they do not spend enough time with family. If you have family near you, then you should take advantage of that and interact with one another. You can have fun with your family by playing games. You can also have fun by just hanging out, which boost your social skills and the computer can't always do that, which brings me to my next point. The computer can't do everything, so take advantage of what you have now. Some computer time is fine, but it can be very dangerous by getting addicted to it. The computer @MONTH1 have lots of information, but there is nothing that you can't find in a book. Your computer can't love your dog, so there is a reason why we should get off the computer. There are plenty of other things that you can do that you can't do on the computer, including sports, taking care of family, and any of your hobbies. Remember that the computer @MONTH1 be great from time to time, but it can not live your life for you. That is why I believe that we should spend less time on the computer, and more time getting out, and having fun with family, and that the computer can't do everything.\n"
     ]
    }
   ],
   "source": [
    "print('Original:')\n",
    "print(training_data_set.essay[16])\n",
    "print('Corrected using languagetool:')\n",
    "print(training_data_set.corrected[16])"
   ]
  },
  {
   "cell_type": "code",
   "execution_count": null,
   "metadata": {},
   "outputs": [],
   "source": []
  }
 ],
 "metadata": {
  "kernelspec": {
   "display_name": "Python 3",
   "language": "python",
   "name": "python3"
  },
  "language_info": {
   "codemirror_mode": {
    "name": "ipython",
    "version": 3
   },
   "file_extension": ".py",
   "mimetype": "text/x-python",
   "name": "python",
   "nbconvert_exporter": "python",
   "pygments_lexer": "ipython3",
   "version": "3.7.9"
  }
 },
 "nbformat": 4,
 "nbformat_minor": 4
}
